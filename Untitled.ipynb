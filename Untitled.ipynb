{
 "cells": [
  {
   "cell_type": "code",
   "execution_count": 1,
   "metadata": {},
   "outputs": [
    {
     "name": "stdout",
     "output_type": "stream",
     "text": [
      "Kellogg's Cornflakes. 500 grams. Costs: {'føtex': 65.9, 'nemlig': 65.9}. Nutrition: Nutrition(1604, 7, 84, 3, 0, 1)\n",
      "Urtekram  C-flakes u. tilsat sukker glutenfri øko. 375 grams. Costs: {'føtex': 71.87}. Nutrition: Nutrition(1680, 8, 86, 4, 1, 1)\n",
      "Nestlé  Chocolate cornflakes glutenfri. 375 grams. Costs: {'føtex': 48.0}. Nutrition: Nutrition(1664, 6, 81, 4, 3, 1)\n",
      "Rittersport  Hvid chokolade m. cornflakes og puffede ris. 100 grams. Costs: {'føtex': 149.5}. Nutrition: Nutrition(2244, 5, 62, 0, 30, 0)\n",
      "Irmas Økologiske Cornflakes. 500 grams. Costs: {'irma': 58.0}. Nutrition: Nutrition(371, 8, 80, 5, 1, 1)\n",
      "Irmas Hverdag Økologiske branflakes. 375 grams. Costs: {'irma': 74.53}. Nutrition: Nutrition(355, 11, 65, 15, 2, 0)\n",
      "Kellogg's Cornflakes. 500 grams. Costs: {'nemlig': 65.9, 'føtex': 65.9}. Nutrition: Nutrition(378, 7, 84, 3, 0, 1)\n",
      "nemlig basic Cornflakes. 750 grams. Costs: {'nemlig': 21.91}. Nutrition: Nutrition(369, 7, 80, 1, 1, 1)\n",
      "EASIS Cornflakes. 375 grams. Costs: {'nemlig': 74.53}. Nutrition: Nutrition(401, 8, 76, 15, 3, 0)\n",
      "Nestlé Cornflakes. 375 grams. Costs: {'nemlig': 93.2}. Nutrition: Nutrition(381, 7, 82, 0, 1, 1)\n",
      "Urtekram Cornflakes øko.. 375 grams. Costs: {'nemlig': 71.87}. Nutrition: Nutrition(400, 7, 83, 3, 1, 1)\n",
      "Grøn Balance Cornflakes øko.. 375 grams. Costs: {'nemlig': 61.33}. Nutrition: Nutrition(383, 7, 84, 0, 1, 0)\n",
      "Nestlé Cornflakes m. chokolade. 375 grams. Costs: {'nemlig': 93.2}. Nutrition: Nutrition(393, 6, 81, 4, 3, 1)\n",
      "Kellogg's Special K. 375 grams. Costs: {'nemlig': 87.87}. Nutrition: Nutrition(372, 9, 78, 4, 1, 1)\n"
     ]
    }
   ],
   "source": [
    "from modules.scraping import main as scrape\n",
    "cereals = scrape.get_cereal(\"Cornflakes\", \"something\")\n",
    "for cereal in cereals:\n",
    "    print(cereal)"
   ]
  },
  {
   "cell_type": "code",
   "execution_count": 3,
   "metadata": {},
   "outputs": [],
   "source": [
    "import modules.visualizing as vs"
   ]
  },
  {
   "cell_type": "code",
   "execution_count": null,
   "metadata": {},
   "outputs": [],
   "source": [
    "from modules.cereal import Nutrition, Cereal\n",
    "\n",
    "c1 = Cereal(\"Cornflakes\", \"Kellogg's\", {'nemlig.com': 32.95, 'foetex.dk': 20}, 500, True, Nutrition(378,7,84,3,0.9,1.13))\n",
    "c2 = Cereal(\"Rice Krispies\", \"Kellogg's\", {'nemlig.com': 32.95, 'foetex.dk': 30}, 375, False, Nutrition(387,6,87,0,1,0))\n",
    "#c3 = Cereal(\"Cocopops\", \"Kellogg's\", {'foetex.dk': 30}, 375, False, Nutrition(387,6,87,0,1,0))\n",
    "cereals = [c1, c2]"
   ]
  },
  {
   "cell_type": "code",
   "execution_count": null,
   "metadata": {},
   "outputs": [],
   "source": [
    "import modules.visualizing as vs\n",
    "\n",
    "vs.show_cereal_prices(cereals)\n",
    "vs.show_prices_per_100g(cereals)"
   ]
  },
  {
   "cell_type": "code",
   "execution_count": 16,
   "metadata": {},
   "outputs": [
    {
     "name": "stdout",
     "output_type": "stream",
     "text": [
      "Nutritional Content per 100 grams in Cereals\n"
     ]
    },
    {
     "data": {
      "text/html": [
       "<div>\n",
       "<style scoped>\n",
       "    .dataframe tbody tr th:only-of-type {\n",
       "        vertical-align: middle;\n",
       "    }\n",
       "\n",
       "    .dataframe tbody tr th {\n",
       "        vertical-align: top;\n",
       "    }\n",
       "\n",
       "    .dataframe thead th {\n",
       "        text-align: right;\n",
       "    }\n",
       "</style>\n",
       "<table border=\"1\" class=\"dataframe\">\n",
       "  <thead>\n",
       "    <tr style=\"text-align: right;\">\n",
       "      <th></th>\n",
       "      <th>Cereal Name</th>\n",
       "      <th>Calories</th>\n",
       "      <th>Protein</th>\n",
       "      <th>Carbohydrates</th>\n",
       "      <th>Fiber</th>\n",
       "      <th>Fat</th>\n",
       "      <th>Salt</th>\n",
       "    </tr>\n",
       "  </thead>\n",
       "  <tbody>\n",
       "    <tr>\n",
       "      <th>0</th>\n",
       "      <td>Kellogg's Cornflakes</td>\n",
       "      <td>1604.0 kcal</td>\n",
       "      <td>7.0 g</td>\n",
       "      <td>84.0 g</td>\n",
       "      <td>3.0 g</td>\n",
       "      <td>0.9 g</td>\n",
       "      <td>1.13 g</td>\n",
       "    </tr>\n",
       "    <tr>\n",
       "      <th>1</th>\n",
       "      <td>Urtekram  C-flakes u. tilsat sukker glutenfri øko</td>\n",
       "      <td>1680.0 kcal</td>\n",
       "      <td>8.4 g</td>\n",
       "      <td>86.0 g</td>\n",
       "      <td>4.0 g</td>\n",
       "      <td>1.1 g</td>\n",
       "      <td>1.3 g</td>\n",
       "    </tr>\n",
       "    <tr>\n",
       "      <th>2</th>\n",
       "      <td>Nestlé  Chocolate cornflakes glutenfri</td>\n",
       "      <td>1664.0 kcal</td>\n",
       "      <td>6.1 g</td>\n",
       "      <td>81.7 g</td>\n",
       "      <td>4.0 g</td>\n",
       "      <td>3.7 g</td>\n",
       "      <td>1.33 g</td>\n",
       "    </tr>\n",
       "    <tr>\n",
       "      <th>3</th>\n",
       "      <td>Rittersport  Hvid chokolade m. cornflakes og p...</td>\n",
       "      <td>2244.0 kcal</td>\n",
       "      <td>5.2 g</td>\n",
       "      <td>62.0 g</td>\n",
       "      <td>0.48 g</td>\n",
       "      <td>30.0 g</td>\n",
       "      <td>0.48 g</td>\n",
       "    </tr>\n",
       "    <tr>\n",
       "      <th>4</th>\n",
       "      <td>Irmas Økologiske Cornflakes</td>\n",
       "      <td>371.0 kcal</td>\n",
       "      <td>8.0 g</td>\n",
       "      <td>80.0 g</td>\n",
       "      <td>5.0 g</td>\n",
       "      <td>1.0 g</td>\n",
       "      <td>1.2 g</td>\n",
       "    </tr>\n",
       "    <tr>\n",
       "      <th>5</th>\n",
       "      <td>Irmas Hverdag Økologiske branflakes</td>\n",
       "      <td>355.0 kcal</td>\n",
       "      <td>11.0 g</td>\n",
       "      <td>65.0 g</td>\n",
       "      <td>15.0 g</td>\n",
       "      <td>2.3 g</td>\n",
       "      <td>0.9 g</td>\n",
       "    </tr>\n",
       "    <tr>\n",
       "      <th>6</th>\n",
       "      <td>Kellogg's Cornflakes</td>\n",
       "      <td>378.0 kcal</td>\n",
       "      <td>7.0 g</td>\n",
       "      <td>84.0 g</td>\n",
       "      <td>3.0 g</td>\n",
       "      <td>0.9 g</td>\n",
       "      <td>1.13 g</td>\n",
       "    </tr>\n",
       "    <tr>\n",
       "      <th>7</th>\n",
       "      <td>nemlig basic Cornflakes</td>\n",
       "      <td>369.0 kcal</td>\n",
       "      <td>7.2 g</td>\n",
       "      <td>80.0 g</td>\n",
       "      <td>1.6 g</td>\n",
       "      <td>1.2 g</td>\n",
       "      <td>1.3 g</td>\n",
       "    </tr>\n",
       "    <tr>\n",
       "      <th>8</th>\n",
       "      <td>EASIS Cornflakes</td>\n",
       "      <td>401.0 kcal</td>\n",
       "      <td>8.8 g</td>\n",
       "      <td>76.4 g</td>\n",
       "      <td>15.1 g</td>\n",
       "      <td>3.2 g</td>\n",
       "      <td>0.98 g</td>\n",
       "    </tr>\n",
       "    <tr>\n",
       "      <th>9</th>\n",
       "      <td>Nestlé Cornflakes</td>\n",
       "      <td>381.0 kcal</td>\n",
       "      <td>7.4 g</td>\n",
       "      <td>82.6 g</td>\n",
       "      <td>0 g</td>\n",
       "      <td>1.4 g</td>\n",
       "      <td>1.82 g</td>\n",
       "    </tr>\n",
       "    <tr>\n",
       "      <th>10</th>\n",
       "      <td>Urtekram Cornflakes øko.</td>\n",
       "      <td>400.0 kcal</td>\n",
       "      <td>7.4 g</td>\n",
       "      <td>83.4 g</td>\n",
       "      <td>3.2 g</td>\n",
       "      <td>1.1 g</td>\n",
       "      <td>1.3 g</td>\n",
       "    </tr>\n",
       "    <tr>\n",
       "      <th>11</th>\n",
       "      <td>Grøn Balance Cornflakes øko.</td>\n",
       "      <td>383.0 kcal</td>\n",
       "      <td>7.2 g</td>\n",
       "      <td>84.0 g</td>\n",
       "      <td>0 g</td>\n",
       "      <td>1.3 g</td>\n",
       "      <td>0.99 g</td>\n",
       "    </tr>\n",
       "    <tr>\n",
       "      <th>12</th>\n",
       "      <td>Nestlé Cornflakes m. chokolade</td>\n",
       "      <td>393.0 kcal</td>\n",
       "      <td>6.1 g</td>\n",
       "      <td>81.9 g</td>\n",
       "      <td>4.0 g</td>\n",
       "      <td>3.7 g</td>\n",
       "      <td>1.06 g</td>\n",
       "    </tr>\n",
       "    <tr>\n",
       "      <th>13</th>\n",
       "      <td>Kellogg's Special K</td>\n",
       "      <td>372.0 kcal</td>\n",
       "      <td>9.3 g</td>\n",
       "      <td>78.0 g</td>\n",
       "      <td>4.8 g</td>\n",
       "      <td>1.5 g</td>\n",
       "      <td>1.0 g</td>\n",
       "    </tr>\n",
       "  </tbody>\n",
       "</table>\n",
       "</div>"
      ],
      "text/plain": [
       "                                          Cereal Name     Calories Protein  \\\n",
       "0                                Kellogg's Cornflakes  1604.0 kcal   7.0 g   \n",
       "1   Urtekram  C-flakes u. tilsat sukker glutenfri øko  1680.0 kcal   8.4 g   \n",
       "2              Nestlé  Chocolate cornflakes glutenfri  1664.0 kcal   6.1 g   \n",
       "3   Rittersport  Hvid chokolade m. cornflakes og p...  2244.0 kcal   5.2 g   \n",
       "4                         Irmas Økologiske Cornflakes   371.0 kcal   8.0 g   \n",
       "5                 Irmas Hverdag Økologiske branflakes   355.0 kcal  11.0 g   \n",
       "6                                Kellogg's Cornflakes   378.0 kcal   7.0 g   \n",
       "7                             nemlig basic Cornflakes   369.0 kcal   7.2 g   \n",
       "8                                    EASIS Cornflakes   401.0 kcal   8.8 g   \n",
       "9                                   Nestlé Cornflakes   381.0 kcal   7.4 g   \n",
       "10                           Urtekram Cornflakes øko.   400.0 kcal   7.4 g   \n",
       "11                       Grøn Balance Cornflakes øko.   383.0 kcal   7.2 g   \n",
       "12                     Nestlé Cornflakes m. chokolade   393.0 kcal   6.1 g   \n",
       "13                                Kellogg's Special K   372.0 kcal   9.3 g   \n",
       "\n",
       "   Carbohydrates   Fiber     Fat    Salt  \n",
       "0         84.0 g   3.0 g   0.9 g  1.13 g  \n",
       "1         86.0 g   4.0 g   1.1 g   1.3 g  \n",
       "2         81.7 g   4.0 g   3.7 g  1.33 g  \n",
       "3         62.0 g  0.48 g  30.0 g  0.48 g  \n",
       "4         80.0 g   5.0 g   1.0 g   1.2 g  \n",
       "5         65.0 g  15.0 g   2.3 g   0.9 g  \n",
       "6         84.0 g   3.0 g   0.9 g  1.13 g  \n",
       "7         80.0 g   1.6 g   1.2 g   1.3 g  \n",
       "8         76.4 g  15.1 g   3.2 g  0.98 g  \n",
       "9         82.6 g     0 g   1.4 g  1.82 g  \n",
       "10        83.4 g   3.2 g   1.1 g   1.3 g  \n",
       "11        84.0 g     0 g   1.3 g  0.99 g  \n",
       "12        81.9 g   4.0 g   3.7 g  1.06 g  \n",
       "13        78.0 g   4.8 g   1.5 g   1.0 g  "
      ]
     },
     "metadata": {},
     "output_type": "display_data"
    }
   ],
   "source": [
    "vs.show_nutrition(cereals)"
   ]
  },
  {
   "cell_type": "code",
   "execution_count": 4,
   "metadata": {},
   "outputs": [
    {
     "name": "stdout",
     "output_type": "stream",
     "text": [
      "Daily Recommended Maximum Nutritional Intake\n"
     ]
    },
    {
     "data": {
      "text/html": [
       "<div>\n",
       "<style scoped>\n",
       "    .dataframe tbody tr th:only-of-type {\n",
       "        vertical-align: middle;\n",
       "    }\n",
       "\n",
       "    .dataframe tbody tr th {\n",
       "        vertical-align: top;\n",
       "    }\n",
       "\n",
       "    .dataframe thead th {\n",
       "        text-align: right;\n",
       "    }\n",
       "</style>\n",
       "<table border=\"1\" class=\"dataframe\">\n",
       "  <thead>\n",
       "    <tr style=\"text-align: right;\">\n",
       "      <th></th>\n",
       "      <th>Sex</th>\n",
       "      <th>Calories</th>\n",
       "      <th>Protein</th>\n",
       "      <th>Carbohydrates</th>\n",
       "      <th>Fiber</th>\n",
       "      <th>Fat</th>\n",
       "      <th>Salt</th>\n",
       "    </tr>\n",
       "  </thead>\n",
       "  <tbody>\n",
       "    <tr>\n",
       "      <th>0</th>\n",
       "      <td>Female</td>\n",
       "      <td>2000 kcal</td>\n",
       "      <td>45 g</td>\n",
       "      <td>325 g</td>\n",
       "      <td>25 g</td>\n",
       "      <td>77 g</td>\n",
       "      <td>6 g</td>\n",
       "    </tr>\n",
       "    <tr>\n",
       "      <th>1</th>\n",
       "      <td>Male</td>\n",
       "      <td>2500 kcal</td>\n",
       "      <td>55.5 g</td>\n",
       "      <td>325 g</td>\n",
       "      <td>38 g</td>\n",
       "      <td>77 g</td>\n",
       "      <td>6 g</td>\n",
       "    </tr>\n",
       "  </tbody>\n",
       "</table>\n",
       "</div>"
      ],
      "text/plain": [
       "      Sex   Calories Protein Carbohydrates Fiber   Fat Salt\n",
       "0  Female  2000 kcal    45 g         325 g  25 g  77 g  6 g\n",
       "1    Male  2500 kcal  55.5 g         325 g  38 g  77 g  6 g"
      ]
     },
     "metadata": {},
     "output_type": "display_data"
    }
   ],
   "source": [
    "vs.show_recommended_nutrition()"
   ]
  },
  {
   "cell_type": "code",
   "execution_count": 15,
   "metadata": {},
   "outputs": [
    {
     "name": "stdout",
     "output_type": "stream",
     "text": [
      "Women:\n"
     ]
    },
    {
     "data": {
      "image/png": "[encoded data removed]",
      "text/plain": [
       "<Figure size 432x288 with 1 Axes>"
      ]
     },
     "metadata": {
      "needs_background": "light"
     },
     "output_type": "display_data"
    },
    {
     "name": "stdout",
     "output_type": "stream",
     "text": [
      "\n",
      "\n",
      "Men:\n"
     ]
    },
    {
     "data": {
      "image/png": "[encoded data removed]",
      "text/plain": [
       "<Figure size 432x288 with 1 Axes>"
      ]
     },
     "metadata": {
      "needs_background": "light"
     },
     "output_type": "display_data"
    }
   ],
   "source": [
    "import random\n",
    "\n",
    "idx = random.randint(0, len(cereals))\n",
    "print('Women:')\n",
    "vs.show_pct_of_recommended_nutrition(cereals[idx], 'female')\n",
    "\n",
    "print('\\n\\nMen:')\n",
    "vs.show_pct_of_recommended_nutrition(cereals[idx], 'male')"
   ]
  }
 ],
 "metadata": {
  "kernelspec": {
   "display_name": "Python 3",
   "language": "python",
   "name": "python3"
  },
  "language_info": {
   "codemirror_mode": {
    "name": "ipython",
    "version": 3
   },
   "file_extension": ".py",
   "mimetype": "text/x-python",
   "name": "python",
   "nbconvert_exporter": "python",
   "pygments_lexer": "ipython3",
   "version": "3.7.6"
  }
 },
 "nbformat": 4,
 "nbformat_minor": 4
}
