{
 "cells": [
  {
   "cell_type": "code",
   "execution_count": 1,
   "metadata": {},
   "outputs": [],
   "source": [
    "from modules.utils import Nutrition, Cereal\n",
    "\n",
    "c1 = Cereal(\"Cornflakes\", \"Kellogg's\", 32.95, 500, Nutrition(378,7,84,3,0.9,1.13))\n",
    "c2 = Cereal(\"Rice Krispies\", \"Kellogg's\", 32.95, 375, Nutrition(387,6,87,0,1,0))\n",
    "cereals = [c1, c2]"
   ]
  },
  {
   "cell_type": "code",
   "execution_count": 2,
   "metadata": {},
   "outputs": [
    {
     "data": {
      "image/png": "[encoded data removed]",
      "text/plain": [
       "<Figure size 432x288 with 1 Axes>"
      ]
     },
     "metadata": {
      "needs_background": "light"
     },
     "output_type": "display_data"
    },
    {
     "data": {
      "image/png": "[encoded data removed]",
      "text/plain": [
       "<Figure size 432x288 with 1 Axes>"
      ]
     },
     "metadata": {
      "needs_background": "light"
     },
     "output_type": "display_data"
    }
   ],
   "source": [
    "import modules.visualizing as vs\n",
    "\n",
    "vs.show_cereal_prices(cereals)\n",
    "vs.show_prices_per_100g(cereals)"
   ]
  },
  {
   "cell_type": "code",
   "execution_count": 3,
   "metadata": {},
   "outputs": [
    {
     "name": "stdout",
     "output_type": "stream",
     "text": [
      "Nutritional Content per 100 grams in Cereals\n"
     ]
    },
    {
     "data": {
      "text/html": [
       "<div>\n",
       "<style scoped>\n",
       "    .dataframe tbody tr th:only-of-type {\n",
       "        vertical-align: middle;\n",
       "    }\n",
       "\n",
       "    .dataframe tbody tr th {\n",
       "        vertical-align: top;\n",
       "    }\n",
       "\n",
       "    .dataframe thead th {\n",
       "        text-align: right;\n",
       "    }\n",
       "</style>\n",
       "<table border=\"1\" class=\"dataframe\">\n",
       "  <thead>\n",
       "    <tr style=\"text-align: right;\">\n",
       "      <th></th>\n",
       "      <th>Cereal Name</th>\n",
       "      <th>Calories</th>\n",
       "      <th>Protein</th>\n",
       "      <th>Carbohydrates</th>\n",
       "      <th>Fiber</th>\n",
       "      <th>Fat</th>\n",
       "      <th>Salt</th>\n",
       "    </tr>\n",
       "  </thead>\n",
       "  <tbody>\n",
       "    <tr>\n",
       "      <th>0</th>\n",
       "      <td>Kellogg's Cornflakes</td>\n",
       "      <td>378 kcal</td>\n",
       "      <td>7 g</td>\n",
       "      <td>84 g</td>\n",
       "      <td>3 g</td>\n",
       "      <td>0.9 g</td>\n",
       "      <td>1.13 g</td>\n",
       "    </tr>\n",
       "    <tr>\n",
       "      <th>1</th>\n",
       "      <td>Kellogg's Rice Krispies</td>\n",
       "      <td>387 kcal</td>\n",
       "      <td>6 g</td>\n",
       "      <td>87 g</td>\n",
       "      <td>0 g</td>\n",
       "      <td>1 g</td>\n",
       "      <td>0 g</td>\n",
       "    </tr>\n",
       "  </tbody>\n",
       "</table>\n",
       "</div>"
      ],
      "text/plain": [
       "               Cereal Name  Calories Protein Carbohydrates Fiber    Fat  \\\n",
       "0     Kellogg's Cornflakes  378 kcal     7 g          84 g   3 g  0.9 g   \n",
       "1  Kellogg's Rice Krispies  387 kcal     6 g          87 g   0 g    1 g   \n",
       "\n",
       "     Salt  \n",
       "0  1.13 g  \n",
       "1     0 g  "
      ]
     },
     "metadata": {},
     "output_type": "display_data"
    }
   ],
   "source": [
    "vs.show_nutrition(cereals)"
   ]
  },
  {
   "cell_type": "code",
   "execution_count": 4,
   "metadata": {},
   "outputs": [
    {
     "name": "stdout",
     "output_type": "stream",
     "text": [
      "Daily Recommended Maximum Nutritional Intake\n"
     ]
    },
    {
     "data": {
      "text/html": [
       "<div>\n",
       "<style scoped>\n",
       "    .dataframe tbody tr th:only-of-type {\n",
       "        vertical-align: middle;\n",
       "    }\n",
       "\n",
       "    .dataframe tbody tr th {\n",
       "        vertical-align: top;\n",
       "    }\n",
       "\n",
       "    .dataframe thead th {\n",
       "        text-align: right;\n",
       "    }\n",
       "</style>\n",
       "<table border=\"1\" class=\"dataframe\">\n",
       "  <thead>\n",
       "    <tr style=\"text-align: right;\">\n",
       "      <th></th>\n",
       "      <th>Sex</th>\n",
       "      <th>Calories</th>\n",
       "      <th>Protein</th>\n",
       "      <th>Carbohydrates</th>\n",
       "      <th>Fiber</th>\n",
       "      <th>Fat</th>\n",
       "      <th>Salt</th>\n",
       "    </tr>\n",
       "  </thead>\n",
       "  <tbody>\n",
       "    <tr>\n",
       "      <th>0</th>\n",
       "      <td>Female</td>\n",
       "      <td>2000 kcal</td>\n",
       "      <td>45 g</td>\n",
       "      <td>325 g</td>\n",
       "      <td>25 g</td>\n",
       "      <td>77 g</td>\n",
       "      <td>6 g</td>\n",
       "    </tr>\n",
       "    <tr>\n",
       "      <th>1</th>\n",
       "      <td>Male</td>\n",
       "      <td>2500 kcal</td>\n",
       "      <td>55.5 g</td>\n",
       "      <td>325 g</td>\n",
       "      <td>38 g</td>\n",
       "      <td>77 g</td>\n",
       "      <td>6 g</td>\n",
       "    </tr>\n",
       "  </tbody>\n",
       "</table>\n",
       "</div>"
      ],
      "text/plain": [
       "      Sex   Calories Protein Carbohydrates Fiber   Fat Salt\n",
       "0  Female  2000 kcal    45 g         325 g  25 g  77 g  6 g\n",
       "1    Male  2500 kcal  55.5 g         325 g  38 g  77 g  6 g"
      ]
     },
     "metadata": {},
     "output_type": "display_data"
    }
   ],
   "source": [
    "vs.show_recommended_nutrition()"
   ]
  },
  {
   "cell_type": "code",
   "execution_count": 5,
   "metadata": {},
   "outputs": [
    {
     "data": {
      "image/png": "[encoded data removed]",
      "text/plain": [
       "<Figure size 432x288 with 1 Axes>"
      ]
     },
     "metadata": {
      "needs_background": "light"
     },
     "output_type": "display_data"
    }
   ],
   "source": [
    "vs.show_pct_of_recommended_nutrition(c1, 'female')"
   ]
  },
  {
   "cell_type": "code",
   "execution_count": null,
   "metadata": {},
   "outputs": [],
   "source": []
  }
 ],
 "metadata": {
  "kernelspec": {
   "display_name": "Python 3",
   "language": "python",
   "name": "python3"
  },
  "language_info": {
   "codemirror_mode": {
    "name": "ipython",
    "version": 3
   },
   "file_extension": ".py",
   "mimetype": "text/x-python",
   "name": "python",
   "nbconvert_exporter": "python",
   "pygments_lexer": "ipython3",
   "version": "3.7.6"
  }
 },
 "nbformat": 4,
 "nbformat_minor": 4
}
