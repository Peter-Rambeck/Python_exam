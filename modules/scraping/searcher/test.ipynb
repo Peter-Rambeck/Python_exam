{
 "cells": [
  {
   "cell_type": "code",
   "execution_count": 1,
   "metadata": {},
   "outputs": [
    {
     "name": "stdout",
     "output_type": "stream",
     "text": [
      "https://www.nemlig.com/?search=Cornflakes\n"
     ]
    }
   ],
   "source": [
    "from typing import Mapping\n",
    "from time import sleep\n",
    "from browser import get_browser\n",
    "import requests\n",
    "from bs4 import BeautifulSoup\n",
    "\n",
    "def get_nemlig_page(search_name: str):\n",
    "    browser = get_browser(\"https://www.nemlig.com/\")\n",
    "\n",
    "    # click on cookie accept\n",
    "    #browser.find_element_by_xpath('//*[@id=\"coiPage-1\"]/div[2]/div[1]/button[3]'):\n",
    "    #    elem = browser.find_element_by_xpath('//*[@id=\"coiPage-1\"]/div[2]/div[1]/button[3]')\n",
    "    #\n",
    "    #     elem.click()\n",
    "\n",
    "    sleep(3)\n",
    "\n",
    "    # Find search field\n",
    "    elem = browser.find_element_by_xpath('//*[@id=\"site-header-search-field-main\"]')\n",
    "    elem.send_keys(search_name)\n",
    "    elem.submit()\n",
    "    \n",
    "    sleep(3)\n",
    "\n",
    "    source = browser.current_url\n",
    "\n",
    "    sleep(3)\n",
    "    return source\n",
    "\n",
    "source = get_nemlig_page(\"Cornflakes\")\n",
    "print(source)"
   ]
  },
  {
   "cell_type": "code",
   "execution_count": 3,
   "metadata": {},
   "outputs": [
    {
     "ename": "NameError",
     "evalue": "name 'Attribute_set' is not defined",
     "output_type": "error",
     "traceback": [
      "\u001b[0;31m---------------------------------------------------------------------------\u001b[0m",
      "\u001b[0;31mNameError\u001b[0m                                 Traceback (most recent call last)",
      "\u001b[0;32m<ipython-input-3-eeabafe3d70a>\u001b[0m in \u001b[0;36m<module>\u001b[0;34m\u001b[0m\n\u001b[1;32m      5\u001b[0m    \u001b[0;32mreturn\u001b[0m \u001b[0mResult_set\u001b[0m\u001b[0;34m,\u001b[0m \u001b[0mAttribute_set\u001b[0m\u001b[0;34m\u001b[0m\u001b[0;34m\u001b[0m\u001b[0m\n\u001b[1;32m      6\u001b[0m \u001b[0;34m\u001b[0m\u001b[0m\n\u001b[0;32m----> 7\u001b[0;31m \u001b[0mResult_set\u001b[0m \u001b[0;34m=\u001b[0m \u001b[0mget_product_links\u001b[0m\u001b[0;34m(\u001b[0m\u001b[0msource\u001b[0m\u001b[0;34m)\u001b[0m\u001b[0;34m\u001b[0m\u001b[0;34m\u001b[0m\u001b[0m\n\u001b[0m\u001b[1;32m      8\u001b[0m \u001b[0mprint\u001b[0m\u001b[0;34m(\u001b[0m\u001b[0;34m{\u001b[0m\u001b[0mlen\u001b[0m\u001b[0;34m(\u001b[0m\u001b[0mResult_set\u001b[0m\u001b[0;34m)\u001b[0m\u001b[0;34m}\u001b[0m\u001b[0;34m)\u001b[0m\u001b[0;34m\u001b[0m\u001b[0;34m\u001b[0m\u001b[0m\n\u001b[1;32m      9\u001b[0m \u001b[0mprint\u001b[0m\u001b[0;34m(\u001b[0m\u001b[0mAttribute_set\u001b[0m\u001b[0;34m)\u001b[0m\u001b[0;34m\u001b[0m\u001b[0;34m\u001b[0m\u001b[0m\n",
      "\u001b[0;32m<ipython-input-3-eeabafe3d70a>\u001b[0m in \u001b[0;36mget_product_links\u001b[0;34m(source)\u001b[0m\n\u001b[1;32m      3\u001b[0m    \u001b[0mbrowser\u001b[0m \u001b[0;34m=\u001b[0m \u001b[0mget_browser\u001b[0m\u001b[0;34m(\u001b[0m\u001b[0msource\u001b[0m\u001b[0;34m)\u001b[0m\u001b[0;34m\u001b[0m\u001b[0;34m\u001b[0m\u001b[0m\n\u001b[1;32m      4\u001b[0m    \u001b[0mResult_set\u001b[0m \u001b[0;34m=\u001b[0m \u001b[0mbrowser\u001b[0m\u001b[0;34m.\u001b[0m\u001b[0mfind_elements_by_class_name\u001b[0m\u001b[0;34m(\u001b[0m\u001b[0;34m'productlist-item__link'\u001b[0m\u001b[0;34m)\u001b[0m\u001b[0;34m\u001b[0m\u001b[0;34m\u001b[0m\u001b[0m\n\u001b[0;32m----> 5\u001b[0;31m    \u001b[0;32mreturn\u001b[0m \u001b[0mResult_set\u001b[0m\u001b[0;34m,\u001b[0m \u001b[0mAttribute_set\u001b[0m\u001b[0;34m\u001b[0m\u001b[0;34m\u001b[0m\u001b[0m\n\u001b[0m\u001b[1;32m      6\u001b[0m \u001b[0;34m\u001b[0m\u001b[0m\n\u001b[1;32m      7\u001b[0m \u001b[0mResult_set\u001b[0m \u001b[0;34m=\u001b[0m \u001b[0mget_product_links\u001b[0m\u001b[0;34m(\u001b[0m\u001b[0msource\u001b[0m\u001b[0;34m)\u001b[0m\u001b[0;34m\u001b[0m\u001b[0;34m\u001b[0m\u001b[0m\n",
      "\u001b[0;31mNameError\u001b[0m: name 'Attribute_set' is not defined"
     ]
    }
   ],
   "source": [
    "def get_product_links(source):\n",
    "\n",
    "   browser = get_browser(source)\n",
    "   Result_set = browser.find_elements_by_class_name('productlist-item__link')\n",
    "   return Result_set\n",
    "\n",
    "Result_set = get_product_links(source)\n",
    "print({len(Result_set)})\n",
    "print(Attribute_set)"
   ]
  },
  {
   "cell_type": "code",
   "execution_count": null,
   "metadata": {},
   "outputs": [],
   "source": [
    "def find_links_for_articles(list):\n",
    "    list =[]\n",
    "    counter = 0\n",
    "    for link in list:\n",
    "        r = requests.get(link)\n",
    "        r.raise_for_status()\n",
    "        soup = bs4.BeautifulSoup(r.text, 'html.parser')\n",
    "        elems = soup.select('a')\n",
    "        number_of_a = len(elems)\n",
    "        counter += 1\n",
    "        list.\n",
    "    return dict\n",
    "dict = find_links_for_articles(Result_set)"
   ]
  }
 ],
 "metadata": {
  "interpreter": {
   "hash": "d4d1e4263499bec80672ea0156c357c1ee493ec2b1c70f0acce89fc37c4a6abe"
  },
  "kernelspec": {
   "display_name": "Python 3.7.6 64-bit ('base': conda)",
   "language": "python",
   "name": "python3"
  },
  "language_info": {
   "codemirror_mode": {
    "name": "ipython",
    "version": 3
   },
   "file_extension": ".py",
   "mimetype": "text/x-python",
   "name": "python",
   "nbconvert_exporter": "python",
   "pygments_lexer": "ipython3",
   "version": "3.7.6"
  },
  "orig_nbformat": 4
 },
 "nbformat": 4,
 "nbformat_minor": 2
}
