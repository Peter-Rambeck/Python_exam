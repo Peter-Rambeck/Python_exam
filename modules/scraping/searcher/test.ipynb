{
 "cells": [
  {
   "cell_type": "code",
   "execution_count": 3,
   "metadata": {},
   "outputs": [
    {
     "name": "stdout",
     "output_type": "stream",
     "text": [
      "https://www.nemlig.com/\n",
      "{20}\n",
      "{20}\n",
      "['https://www.nemlig.com/https://www.nemlig.com/smoer-saltet-5038613', 'https://www.nemlig.com/https://www.nemlig.com/smoer-oeko-702004', 'https://www.nemlig.com/https://www.nemlig.com/smoer-saltet-5028035', 'https://www.nemlig.com/https://www.nemlig.com/smoer-saltet-oeko-5044515', 'https://www.nemlig.com/https://www.nemlig.com/smoer-saltet-oeko-5032050', 'https://www.nemlig.com/https://www.nemlig.com/smoer-5020061', 'https://www.nemlig.com/https://www.nemlig.com/smoer-usaltet-5038599', 'https://www.nemlig.com/https://www.nemlig.com/smoer-usaltet-oeko-5008150', 'https://www.nemlig.com/https://www.nemlig.com/smoer-saltet-5044557', 'https://www.nemlig.com/https://www.nemlig.com/smoer-m-havsaltkrystaller-5044425', 'https://www.nemlig.com/https://www.nemlig.com/smoer-saltet-oeko-5019525', 'https://www.nemlig.com/https://www.nemlig.com/kuvertsmoer-saltet-5052252', 'https://www.nemlig.com/https://www.nemlig.com/blaabaer-5049872', 'https://www.nemlig.com/https://www.nemlig.com/hindbaer-oeko-5049885', 'https://www.nemlig.com/https://www.nemlig.com/hindbaer-5049882', 'https://www.nemlig.com/https://www.nemlig.com/blaabaer-5049875', 'https://www.nemlig.com/https://www.nemlig.com/brombaer-5049870', 'https://www.nemlig.com/https://www.nemlig.com/jordbaer-5049878', 'https://www.nemlig.com/https://www.nemlig.com/ribs-5049887', 'https://www.nemlig.com/https://www.nemlig.com/vaniljekransedej-5048911']\n"
     ]
    }
   ],
   "source": [
    "from typing import Mapping\n",
    "from time import sleep\n",
    "from browser import get_browser\n",
    "import requests\n",
    "from bs4 import BeautifulSoup\n",
    "\n",
    "def get_nemlig_page(search_name: str):\n",
    "    browser = get_browser(\"https://www.nemlig.com/\")\n",
    "\n",
    "    # click on cookie accept\n",
    "    #browser.find_element_by_xpath('//*[@id=\"coiPage-1\"]/div[2]/div[1]/button[3]'):\n",
    "    #    elem = browser.find_element_by_xpath('//*[@id=\"coiPage-1\"]/div[2]/div[1]/button[3]')\n",
    "    #    elem.click()\n",
    "\n",
    "    sleep(3)\n",
    "\n",
    "\n",
    "    # Find search field\n",
    "    elem = browser.find_element_by_xpath('//*[@id=\"site-header-search-field-main\"]')\n",
    "    elem.send_keys(search_name)\n",
    "    elem.submit()\n",
    "    \n",
    "    sleep(3)\n",
    "\n",
    "    browser.current_url\n",
    "    Result_set = browser.find_elements_by_class_name('productlist-item__link')\n",
    "    links = __get_links(Result_set)\n",
    "\n",
    "    source = browser.current_url\n",
    "\n",
    "    browser.close()\n",
    "\n",
    "    return source, Result_set, links\n",
    "\n",
    "source, Result_set, links = get_nemlig_page(\"Cornflakes\")\n",
    "print(source)\n",
    "print({len(Result_set)})\n",
    "print({len(links)})\n",
    "print(links)"
   ]
  },
  {
   "cell_type": "code",
   "execution_count": 2,
   "metadata": {},
   "outputs": [],
   "source": [
    "def __get_links(list):\n",
    "    links = []\n",
    "    for elem in list:\n",
    "        ref = elem.get_attribute('href')\n",
    "        links.append(\"https://www.nemlig.com/\" + ref)\n",
    "    else:\n",
    "        pass\n",
    "    return links\n"
   ]
  },
  {
   "cell_type": "code",
   "execution_count": 54,
   "metadata": {},
   "outputs": [],
   "source": [
    "import bs4\n",
    "import requests\n",
    "\n",
    "def get_single_cereal():\n",
    "\n",
    "    text = []\n",
    "\n",
    "    r = requests.get('https://www.nemlig.com/cornflakes-901004')\n",
    "    r.raise_for_status()\n",
    "    soup = bs4.BeautifulSoup(r.text, 'html.parser')\n",
    "    for i in soup.find_all('table', class_=\"table\"):\n",
    "        print(type(i))\n",
    "        for j in i.find_all(\"tr\"):\n",
    "            for k in j.find_all(\"td\", class_=\"table_col\"):\n",
    "                text.append(k)\n",
    "    print(text)\n",
    "get_single_cereal()\n"
   ]
  }
 ],
 "metadata": {
  "interpreter": {
   "hash": "d4d1e4263499bec80672ea0156c357c1ee493ec2b1c70f0acce89fc37c4a6abe"
  },
  "kernelspec": {
   "display_name": "Python 3.7.6 64-bit ('base': conda)",
   "language": "python",
   "name": "python3"
  },
  "language_info": {
   "codemirror_mode": {
    "name": "ipython",
    "version": 3
   },
   "file_extension": ".py",
   "mimetype": "text/x-python",
   "name": "python",
   "nbconvert_exporter": "python",
   "pygments_lexer": "ipython3",
   "version": "3.7.6"
  },
  "orig_nbformat": 4
 },
 "nbformat": 4,
 "nbformat_minor": 2
}
