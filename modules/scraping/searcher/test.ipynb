{
 "cells": [
  {
   "cell_type": "code",
   "execution_count": 3,
   "metadata": {},
   "outputs": [],
   "source": [
    "def __get_links(list):\n",
    "    links = []\n",
    "    for elem in list:\n",
    "        ref = elem.get_attribute('href')\n",
    "        links.append(\"https://www.nemlig.com/\" + ref)\n",
    "    else:\n",
    "        pass\n",
    "    return links"
   ]
  },
  {
   "cell_type": "code",
   "execution_count": 4,
   "metadata": {},
   "outputs": [
    {
     "name": "stdout",
     "output_type": "stream",
     "text": [
      "Not clicked cookies\n",
      "https://www.nemlig.com/?search=Cornflakes\n",
      "{8}\n",
      "{8}\n",
      "['https://www.nemlig.com/https://www.nemlig.com/cornflakes-901004', 'https://www.nemlig.com/https://www.nemlig.com/cornflakes-5047452', 'https://www.nemlig.com/https://www.nemlig.com/cornflakes-5046964', 'https://www.nemlig.com/https://www.nemlig.com/cornflakes-5003441', 'https://www.nemlig.com/https://www.nemlig.com/cornflakes-oeko-5015483', 'https://www.nemlig.com/https://www.nemlig.com/cornflakes-oeko-5045917', 'https://www.nemlig.com/https://www.nemlig.com/cornflakes-m-chokolade-5046962', 'https://www.nemlig.com/https://www.nemlig.com/special-k-5022972']\n"
     ]
    }
   ],
   "source": [
    "from typing import Mapping\n",
    "from time import sleep\n",
    "from browser import get_browser\n",
    "import requests\n",
    "from bs4 import BeautifulSoup\n",
    "\n",
    "def get_nemlig_page(search_name: str):\n",
    "    browser = get_browser(\"https://www.nemlig.com/\")\n",
    "\n",
    "\n",
    "    # click on cookie accept\n",
    "    elem = browser.find_element_by_xpath('//*[@id=\"coiPage-1\"]/div[2]/div[1]/button[3]')\n",
    "    if elem.is_displayed():\n",
    "        elem.click() # this will click the element if it is there\n",
    "        print(\"Clicked cookies\")\n",
    "    else: \n",
    "        print (\"Not clicked cookies\")\n",
    "     \n",
    "    sleep(3)\n",
    "\n",
    "    # Find search field\n",
    "    elem = browser.find_element_by_xpath('//*[@id=\"site-header-search-field-main\"]')\n",
    "    elem.send_keys(search_name)\n",
    "    elem.submit()\n",
    "    \n",
    "    sleep(3)\n",
    "\n",
    "    browser.current_url\n",
    "    Result_set = browser.find_elements_by_class_name('productlist-item__link')\n",
    "    links = __get_links(Result_set)\n",
    "\n",
    "    source = browser.current_url\n",
    "\n",
    "    browser.close()\n",
    "\n",
    "    return source, Result_set, links\n",
    "\n",
    "source, Result_set, links = get_nemlig_page(\"Cornflakes\")\n",
    "print(source)\n",
    "print({len(Result_set)})\n",
    "print({len(links)})\n",
    "print(links)"
   ]
  },
  {
   "cell_type": "code",
   "execution_count": 12,
   "metadata": {},
   "outputs": [],
   "source": [
    "def get_single_cereal():\n",
    "\n",
    "    browser = get_browser(\"https://www.nemlig.com/cornflakes-901004\")\n",
    "\n",
    "    sleep(3)\n",
    "\n",
    "    Table_rows = browser.find_elements_by_class_name('table__row')\n",
    "    rows = browser.find_elements_by_xpath('//*[@id=\"page-content\"]/div/productdetailpage/section/div[1]/render-partial/div/product-detail/accordion-group/div/div/div[1]/div/product-detail-declaration/div[1]/table/tbody/tr')\n",
    "    columns = browser.find_elements_by_xpath('//*[@id=\"page-content\"]/div/productdetailpage/section/div[1]/render-partial/div/product-detail/accordion-group/div/div/div[1]/div/product-detail-declaration/div[1]/table/tbody/tr[2]/td')\n",
    "    \n",
    "    for i in rows:\n",
    "        for j in columns:\n",
    "            print(j)\n",
    "            #print(browser.find_element_by_xpath('//*[@id=\"page-content\"]/div/productdetailpage/section/div[1]/render-partial/div/product-detail/accordion-group/div/div/div[1]/div/product-detail-declaration/div[1]/table/tbody/tr[\"+ i +\"]/td[\" + j + \"]').get_attribute('innerHTML'))\n",
    "            \n",
    "    print(\"Fedt \" + browser.find_element_by_xpath('//*[@id=\"page-content\"]/div/productdetailpage/section/div[1]/render-partial/div/product-detail/accordion-group/div/div/div[1]/div/product-detail-declaration/div[1]/table/tbody/tr[3]/td[2]/span').get_attribute('innerHTML'))\n",
    "    #data = __get_data(Table_rows)\n",
    "    browser.close()\n",
    "    \n",
    "    return Table_rows, rows, columns\n",
    "    \n",
    "Table_rows, rows, columns = get_single_cereal()\n",
    "print({len(Table_rows)})\n",
    "print({len(rows)})\n",
    "print({len(columns)})"
   ]
  },
  {
   "cell_type": "code",
   "execution_count": null,
   "metadata": {},
   "outputs": [],
   "source": []
  }
 ],
 "metadata": {
  "interpreter": {
   "hash": "d4d1e4263499bec80672ea0156c357c1ee493ec2b1c70f0acce89fc37c4a6abe"
  },
  "kernelspec": {
   "display_name": "Python 3.7.6 64-bit ('base': conda)",
   "language": "python",
   "name": "python3"
  },
  "language_info": {
   "codemirror_mode": {
    "name": "ipython",
    "version": 3
   },
   "file_extension": ".py",
   "mimetype": "text/x-python",
   "name": "python",
   "nbconvert_exporter": "python",
   "pygments_lexer": "ipython3",
   "version": "3.7.6"
  },
  "orig_nbformat": 4
 },
 "nbformat": 4,
 "nbformat_minor": 2
}
