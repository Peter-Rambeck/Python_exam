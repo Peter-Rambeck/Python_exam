{
 "cells": [
  {
   "cell_type": "code",
   "execution_count": 1,
   "metadata": {},
   "outputs": [],
   "source": [
    "def __get_links(list):\n",
    "    links = []\n",
    "    for elem in list:\n",
    "        ref = elem.get_attribute('href')\n",
    "        links.append(\"https://www.nemlig.com/\" + ref)\n",
    "    else:\n",
    "        pass\n",
    "    return links"
   ]
  },
  {
   "cell_type": "code",
   "execution_count": 2,
   "metadata": {},
   "outputs": [
    {
     "name": "stdout",
     "output_type": "stream",
     "text": [
      "Not clicked cookies\n",
      "https://www.nemlig.com/?search=Cornflakes\n",
      "{8}\n",
      "{8}\n",
      "['https://www.nemlig.com/https://www.nemlig.com/cornflakes-901004', 'https://www.nemlig.com/https://www.nemlig.com/cornflakes-5047452', 'https://www.nemlig.com/https://www.nemlig.com/cornflakes-5046964', 'https://www.nemlig.com/https://www.nemlig.com/cornflakes-5003441', 'https://www.nemlig.com/https://www.nemlig.com/cornflakes-oeko-5015483', 'https://www.nemlig.com/https://www.nemlig.com/cornflakes-oeko-5045917', 'https://www.nemlig.com/https://www.nemlig.com/cornflakes-m-chokolade-5046962', 'https://www.nemlig.com/https://www.nemlig.com/special-k-5022972']\n"
     ]
    }
   ],
   "source": [
    "from typing import Mapping\n",
    "from time import sleep\n",
    "import requests\n",
    "from bs4 import BeautifulSoup\n",
    "from modules.scraping.searcher.browser import get_browser\n",
    "\n",
    "def get_nemlig_page(search_name: str):\n",
    "    browser = get_browser(\"https://www.nemlig.com/\")\n",
    "\n",
    "    # click on cookie accept\n",
    "    elem = browser.find_element_by_xpath('//*[@id=\"coiPage-1\"]/div[2]/div[1]/button[3]')\n",
    "    if elem.is_displayed():\n",
    "        elem.click() # this will click the element if it is there\n",
    "        print(\"Clicked cookies\")\n",
    "    else: \n",
    "        print (\"Not clicked cookies\")\n",
    "     \n",
    "    sleep(3)\n",
    "\n",
    "    # Find search field\n",
    "    elem = browser.find_element_by_xpath('//*[@id=\"site-header-search-field-main\"]')\n",
    "    elem.send_keys(search_name)\n",
    "    elem.submit()\n",
    "    \n",
    "    sleep(3)\n",
    "\n",
    "    browser.current_url\n",
    "    Result_set = browser.find_elements_by_class_name('productlist-item__link')\n",
    "    links = __get_links(Result_set)\n",
    "\n",
    "    source = browser.current_url\n",
    "\n",
    "    browser.close()\n",
    "\n",
    "    return source, Result_set, links\n",
    "\n",
    "source, Result_set, links = get_nemlig_page(\"Cornflakes\")\n",
    "print(source)\n",
    "print({len(Result_set)})\n",
    "print({len(links)})\n",
    "print(links)"
   ]
  },
  {
   "cell_type": "code",
   "execution_count": 5,
   "metadata": {},
   "outputs": [
    {
     "name": "stdout",
     "output_type": "stream",
     "text": [
      "Cornflakes\n",
      "Kellogg's\n",
      "32\n",
      "95\n",
      "500 g / Kellogg's\n",
      "[' 3 g']\n",
      "{18}\n",
      "{9}\n",
      "{2}\n"
     ]
    }
   ],
   "source": [
    "def get_single_cereal():\n",
    "\n",
    "    browser = get_browser(\"https://www.nemlig.com/cornflakes-901004\")\n",
    "\n",
    "    sleep(3)\n",
    "\n",
    "    Table_rows = browser.find_elements_by_class_name('table__row')\n",
    "    rows = browser.find_elements_by_xpath('//*[@id=\"page-content\"]/div/productdetailpage/section/div[1]/render-partial/div/product-detail/accordion-group/div/div/div[1]/div/product-detail-declaration/div[1]/table/tbody/tr')\n",
    "    columns = browser.find_elements_by_xpath('//*[@id=\"page-content\"]/div/productdetailpage/section/div[1]/render-partial/div/product-detail/accordion-group/div/div/div[1]/div/product-detail-declaration/div[1]/table/tbody/tr[2]/td')\n",
    "    \n",
    "    #for i in rows:\n",
    "        #for j in columns:\n",
    "            # print(j.get_attribute('innerHTML'))\n",
    "            #print(browser.find_element_by_xpath('//*[@id=\"page-content\"]/div/productdetailpage/section/div[1]/render-partial/div/product-detail/accordion-group/div/div/div[1]/div/product-detail-declaration/div[1]/table/tbody/tr[\"+ i +\"]/td[\" + j + \"]').get_attribute('innerHTML'))\n",
    "    Navn = browser.find_element_by_xpath('//*[@id=\"page-content\"]/div/productdetailpage/section/div[1]/render-partial/div/product-detail/accordion-group/div/div/div[2]/accordion/div[2]/content/div[4]/span[2]').get_attribute(\"innerText\")\n",
    "    Maerke = browser.find_element_by_xpath('//*[@id=\"page-content\"]/div/productdetailpage/section/div[1]/render-partial/div/product-detail/accordion-group/div/div/div[2]/accordion/div[2]/content/div[1]/span[2]').get_attribute(\"innerText\")\n",
    "    Pris1 = browser.find_element_by_xpath('//*[@id=\"page-content\"]/div/productdetailpage/section/div[1]/render-partial/div/product-detail/accordion-group/div/div/div[2]/div[3]/div[1]/pricecontainer/div/div[2]/span').get_attribute(\"innerHTML\")\n",
    "    Pris2 = browser.find_element_by_xpath('//*[@id=\"page-content\"]/div/productdetailpage/section/div[1]/render-partial/div/product-detail/accordion-group/div/div/div[2]/div[3]/div[1]/pricecontainer/div/div[2]/sup').get_attribute(\"innerHTML\")\n",
    "    Gram = browser.find_element_by_xpath('//*[@id=\"page-content\"]/div/productdetailpage/section/div[1]/render-partial/div/product-detail/accordion-group/div/div/div[2]/h2').get_attribute(\"innerHTML\")\n",
    "    print(Navn)\n",
    "    print(Maerke)\n",
    "    print(Pris1)\n",
    "    print(Pris2)\n",
    "    print(Gram)\n",
    "   \n",
    "\n",
    "\n",
    "    Fedt = browser.find_element_by_xpath('//*[@id=\"page-content\"]/div/productdetailpage/section/div[1]/render-partial/div/product-detail/accordion-group/div/div/div[1]/div/product-detail-declaration/div[1]/table/tbody/tr[3]/td[2][text()]').get_attribute(\"innerText\").split(\"''\")\n",
    "    Kulhydrat = browser.find_element_by_xpath('//*[@id=\"page-content\"]/div/productdetailpage/section/div[1]/render-partial/div/product-detail/accordion-group/div/div/div[1]/div/product-detail-declaration/div[1]/table/tbody/tr[5]/td[2][text()]').get_attribute(\"innerText\").split(\"''\")\n",
    "    Protein = browser.find_element_by_xpath('//*[@id=\"page-content\"]/div/productdetailpage/section/div[1]/render-partial/div/product-detail/accordion-group/div/div/div[1]/div/product-detail-declaration/div[1]/table/tbody/tr[8]/td[2][text()]').get_attribute(\"innerText\").split(\"''\")\n",
    "    Salt = browser.find_element_by_xpath('//*[@id=\"page-content\"]/div/productdetailpage/section/div[1]/render-partial/div/product-detail/accordion-group/div/div/div[1]/div/product-detail-declaration/div[1]/table/tbody/tr[9]/td[2][text()]').get_attribute(\"innerText\").split(\"''\")\n",
    "    Fiber = browser.find_element_by_xpath('//*[@id=\"page-content\"]/div/productdetailpage/section/div[1]/render-partial/div/product-detail/accordion-group/div/div/div[1]/div/product-detail-declaration/div[1]/table/tbody/tr[7]/td[2][text()]').get_attribute(\"innerText\").split(\"''\")\n",
    "    print(Fiber)\n",
    "\n",
    "    browser.close()\n",
    "    \n",
    "    return Table_rows, rows, columns, Fedt, Kulhydrat, Protein, Salt, Navn, Maerke, Pris1, Pris2, Gram, Fiber\n",
    "    \n",
    "Table_rows, rows, columns, Fedt, Kulhydrat, Protein, Salt, Navn, Maerke, Pris1, Pris2, Gram, Fiber = get_single_cereal()\n",
    "print({len(Table_rows)})\n",
    "print({len(rows)})\n",
    "print({len(columns)})\n"
   ]
  },
  {
   "cell_type": "code",
   "execution_count": 6,
   "metadata": {},
   "outputs": [
    {
     "name": "stdout",
     "output_type": "stream",
     "text": [
      "3.0\n"
     ]
    }
   ],
   "source": [
    "from modules.scraping.searcher.utils import make_float, remove_chars\n",
    "from modules.scraping.cereal import Cereal, Nutrition\n",
    "\n",
    "name =  Navn\n",
    "brand = Maerke\n",
    "price = float(Pris1+\".\"+Pris2)\n",
    "gram = float(Gram.replace(\" g / Kellogg's\", \"\"))\n",
    "\n",
    "fat = make_float(remove_chars(Fedt[0]))\n",
    "carbohydrates = make_float(remove_chars(Kulhydrat[0]))\n",
    "protein = make_float(remove_chars(Protein[0]))\n",
    "salt = make_float(remove_chars(Salt[0]))\n",
    "fiber = make_float(remove_chars(Fiber[0]))\n",
    "\n",
    "nutrition = Nutrition( protein,\n",
    "        carbohydrates,\n",
    "        fiber,\n",
    "        fat,\n",
    "        salt)\n",
    "\n",
    "cereal = Cereal(name, brand, price, gram, nutrition)\n"
   ]
  },
  {
   "cell_type": "code",
   "execution_count": 55,
   "metadata": {},
   "outputs": [],
   "source": [
    "from modules.scraping.main import get_cereal\n",
    "\n",
    "cereal_list = get_cereal(\"Cornflakes\", \"Kellogg's\")\n"
   ]
  },
  {
   "cell_type": "code",
   "execution_count": 58,
   "metadata": {},
   "outputs": [
    {
     "name": "stdout",
     "output_type": "stream",
     "text": [
      "Cornflakes Kellogg's Cornflakes 500.0 {'føtex': 65.9} 0.9 7.0 84.0 3.0 1.13\n",
      "C-flakes u. tilsat sukker glutenfri øko Urtekram  375.0 {'føtex': 71.87} 1.1 8.4 86.0 4.0 1.3\n",
      "Chocolate cornflakes glutenfri Nestlé  375.0 {'føtex': 48.0} 3.7 6.1 81.7 4.0 1.33\n",
      "Hvid chokolade m. cornflakes og puffede ris Rittersport  100.0 {'føtex': 149.5} 30.0 5.2 62.0 0.48 0.48\n",
      "Økologiske Cornflakes Irmas 500.0 {'irma': 58.0} 1.0 8.0 80.0 5.0 1.2\n",
      "Økologiske branflakes Irmas Hverdag 375.0 {'irma': 74.53} 2.3 11.0 65.0 15.0 0.9\n",
      "Cornflakes Kellogg's 500.0 {'nemlig': 32.95} 0.9 7.0 84.0 3.0 1.13\n",
      "Cornflakes nemlig basic 750.0 {'nemlig': 16.43} 1.2 7.2 80.0 1.6 1.3\n",
      "Cornflakes Nestlé 375.0 {'nemlig': 34.95} 1.4 7.4 82.6 0 1.82\n",
      "Cornflakes EASIS 375.0 {'nemlig': 27.95} 3.2 8.8 76.4 15.1 0.98\n",
      "Cornflakes øko. Urtekram 375.0 {'nemlig': 26.95} 1.1 7.4 83.4 3.2 1.3\n",
      "Cornflakes øko. Grøn Balance 375.0 {'nemlig': 23.0} 1.3 7.2 84.0 0 0.99\n",
      "Cornflakes m. chokolade Nestlé 375.0 {'nemlig': 34.95} 3.7 6.1 81.9 4.0 1.06\n",
      "Special K Kellogg's 375.0 {'nemlig': 32.95} 1.5 9.3 78.0 4.8 1.0\n"
     ]
    }
   ],
   "source": [
    "from modules.scraping.cereal import Cereal, Nutrition\n",
    "\n",
    "def print_cereal(list):\n",
    "    for cereal in list:\n",
    "        print(\n",
    "            cereal.name,\n",
    "            cereal.brand,\n",
    "            cereal.grams,\n",
    "            cereal.price,\n",
    "            cereal.nutrition.fat,\n",
    "            cereal.nutrition.protein,\n",
    "            cereal.nutrition.carbohydrates,\n",
    "            cereal.nutrition.fiber,\n",
    "            cereal.nutrition.salt,\n",
    "        )\n",
    "\n",
    "\n",
    "\n",
    "\n",
    "print_cereal(result)"
   ]
  }
 ],
 "metadata": {
  "interpreter": {
   "hash": "d4d1e4263499bec80672ea0156c357c1ee493ec2b1c70f0acce89fc37c4a6abe"
  },
  "kernelspec": {
   "display_name": "Python 3 (ipykernel)",
   "language": "python",
   "name": "python3"
  },
  "language_info": {
   "codemirror_mode": {
    "name": "ipython",
    "version": 3
   },
   "file_extension": ".py",
   "mimetype": "text/x-python",
   "name": "python",
   "nbconvert_exporter": "python",
   "pygments_lexer": "ipython3",
   "version": "3.9.7"
  }
 },
 "nbformat": 4,
 "nbformat_minor": 2
}
